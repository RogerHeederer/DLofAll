{
  "nbformat": 4,
  "nbformat_minor": 0,
  "metadata": {
    "colab": {
      "name": "Char_Seq.ipynb",
      "provenance": [],
      "authorship_tag": "ABX9TyPW/px4moIxKqgFVvNrCyRg",
      "include_colab_link": true
    },
    "kernelspec": {
      "name": "python3",
      "display_name": "Python 3"
    }
  },
  "cells": [
    {
      "cell_type": "markdown",
      "metadata": {
        "id": "view-in-github",
        "colab_type": "text"
      },
      "source": [
        "<a href=\"https://colab.research.google.com/github/RogerHeederer/DLofAll/blob/master/Char_Seq.ipynb\" target=\"_parent\"><img src=\"https://colab.research.google.com/assets/colab-badge.svg\" alt=\"Open In Colab\"/></a>"
      ]
    },
    {
      "cell_type": "markdown",
      "metadata": {
        "id": "zQ56q5Yb8ws4",
        "colab_type": "text"
      },
      "source": [
        "Reference : https://github.com/deeplearningzerotoal"
      ]
    },
    {
      "cell_type": "code",
      "metadata": {
        "id": "tAvrAjl08o3N",
        "colab_type": "code",
        "colab": {}
      },
      "source": [
        "import torch\n",
        "import torch.optim as optim\n",
        "import numpy as np"
      ],
      "execution_count": 18,
      "outputs": []
    },
    {
      "cell_type": "code",
      "metadata": {
        "id": "yx1WDAm09AsM",
        "colab_type": "code",
        "colab": {
          "base_uri": "https://localhost:8080/",
          "height": 34
        },
        "outputId": "dfc3987e-3b41-4ec6-bfa1-e4ad5218fc18"
      },
      "source": [
        "torch.manual_seed(0)"
      ],
      "execution_count": 19,
      "outputs": [
        {
          "output_type": "execute_result",
          "data": {
            "text/plain": [
              "<torch._C.Generator at 0x7f9e983661b0>"
            ]
          },
          "metadata": {
            "tags": []
          },
          "execution_count": 19
        }
      ]
    },
    {
      "cell_type": "code",
      "metadata": {
        "id": "9f6lUFrt9D5Y",
        "colab_type": "code",
        "colab": {
          "base_uri": "https://localhost:8080/",
          "height": 34
        },
        "outputId": "f17d80ab-a000-4ad8-f4e6-6e8d45eeb98e"
      },
      "source": [
        "sample = \" if you want you\"\n",
        "\n",
        "char_set = list(set(sample))\n",
        "char_dic = {c: i for i, c in enumerate(char_set)}\n",
        "print(char_dic)"
      ],
      "execution_count": 20,
      "outputs": [
        {
          "output_type": "stream",
          "text": [
            "{' ': 0, 'w': 1, 'u': 2, 'a': 3, 'f': 4, 'o': 5, 'n': 6, 't': 7, 'y': 8, 'i': 9}\n"
          ],
          "name": "stdout"
        }
      ]
    },
    {
      "cell_type": "code",
      "metadata": {
        "id": "khUOvplV9OLT",
        "colab_type": "code",
        "colab": {}
      },
      "source": [
        "dic_size = len(char_dic)\n",
        "hidden_size = len(char_dic)\n",
        "learning_rate = 0.1"
      ],
      "execution_count": 21,
      "outputs": []
    },
    {
      "cell_type": "code",
      "metadata": {
        "id": "wwdE3LOD9uL9",
        "colab_type": "code",
        "colab": {
          "base_uri": "https://localhost:8080/",
          "height": 34
        },
        "outputId": "ed743b6b-71cf-4ef6-e2c9-26d6185e907b"
      },
      "source": [
        "sample_idx = [char_dic[c] for c in sample]\n",
        "sample_idx"
      ],
      "execution_count": 22,
      "outputs": [
        {
          "output_type": "execute_result",
          "data": {
            "text/plain": [
              "[0, 9, 4, 0, 8, 5, 2, 0, 1, 3, 6, 7, 0, 8, 5, 2]"
            ]
          },
          "metadata": {
            "tags": []
          },
          "execution_count": 22
        }
      ]
    },
    {
      "cell_type": "code",
      "metadata": {
        "id": "i8JAVCM89179",
        "colab_type": "code",
        "colab": {}
      },
      "source": [
        "# data setting\n",
        "x_data = [sample_idx[:-1]]\n",
        "x_one_hot = [np.eye(dic_size)[x] for x in x_data]\n",
        "y_data = [sample_idx[1:]]"
      ],
      "execution_count": 23,
      "outputs": []
    },
    {
      "cell_type": "code",
      "metadata": {
        "id": "b9cS4Mrl-TDi",
        "colab_type": "code",
        "colab": {
          "base_uri": "https://localhost:8080/",
          "height": 34
        },
        "outputId": "0b4ec805-b926-46d1-9954-26685b5e0d72"
      },
      "source": [
        "x_data"
      ],
      "execution_count": 24,
      "outputs": [
        {
          "output_type": "execute_result",
          "data": {
            "text/plain": [
              "[[0, 9, 4, 0, 8, 5, 2, 0, 1, 3, 6, 7, 0, 8, 5]]"
            ]
          },
          "metadata": {
            "tags": []
          },
          "execution_count": 24
        }
      ]
    },
    {
      "cell_type": "code",
      "metadata": {
        "id": "TByvoUep-Tps",
        "colab_type": "code",
        "colab": {
          "base_uri": "https://localhost:8080/",
          "height": 34
        },
        "outputId": "993eed3b-e214-4efc-87dc-fa60ff1caf3c"
      },
      "source": [
        "y_data"
      ],
      "execution_count": 25,
      "outputs": [
        {
          "output_type": "execute_result",
          "data": {
            "text/plain": [
              "[[9, 4, 0, 8, 5, 2, 0, 1, 3, 6, 7, 0, 8, 5, 2]]"
            ]
          },
          "metadata": {
            "tags": []
          },
          "execution_count": 25
        }
      ]
    },
    {
      "cell_type": "code",
      "metadata": {
        "id": "ZLVe9tgA-Uaj",
        "colab_type": "code",
        "colab": {
          "base_uri": "https://localhost:8080/",
          "height": 272
        },
        "outputId": "1495eb2f-153a-4bdb-bca2-e13929a52888"
      },
      "source": [
        "x_one_hot"
      ],
      "execution_count": 26,
      "outputs": [
        {
          "output_type": "execute_result",
          "data": {
            "text/plain": [
              "[array([[1., 0., 0., 0., 0., 0., 0., 0., 0., 0.],\n",
              "        [0., 0., 0., 0., 0., 0., 0., 0., 0., 1.],\n",
              "        [0., 0., 0., 0., 1., 0., 0., 0., 0., 0.],\n",
              "        [1., 0., 0., 0., 0., 0., 0., 0., 0., 0.],\n",
              "        [0., 0., 0., 0., 0., 0., 0., 0., 1., 0.],\n",
              "        [0., 0., 0., 0., 0., 1., 0., 0., 0., 0.],\n",
              "        [0., 0., 1., 0., 0., 0., 0., 0., 0., 0.],\n",
              "        [1., 0., 0., 0., 0., 0., 0., 0., 0., 0.],\n",
              "        [0., 1., 0., 0., 0., 0., 0., 0., 0., 0.],\n",
              "        [0., 0., 0., 1., 0., 0., 0., 0., 0., 0.],\n",
              "        [0., 0., 0., 0., 0., 0., 1., 0., 0., 0.],\n",
              "        [0., 0., 0., 0., 0., 0., 0., 1., 0., 0.],\n",
              "        [1., 0., 0., 0., 0., 0., 0., 0., 0., 0.],\n",
              "        [0., 0., 0., 0., 0., 0., 0., 0., 1., 0.],\n",
              "        [0., 0., 0., 0., 0., 1., 0., 0., 0., 0.]])]"
            ]
          },
          "metadata": {
            "tags": []
          },
          "execution_count": 26
        }
      ]
    },
    {
      "cell_type": "code",
      "metadata": {
        "id": "ItVkwhfU-ZnS",
        "colab_type": "code",
        "colab": {}
      },
      "source": [
        "#transform as torch tensor\n",
        "X = torch.FloatTensor(x_one_hot)\n",
        "Y = torch.LongTensor(y_data)"
      ],
      "execution_count": 27,
      "outputs": []
    },
    {
      "cell_type": "code",
      "metadata": {
        "id": "BWsYB43l-vNk",
        "colab_type": "code",
        "colab": {
          "base_uri": "https://localhost:8080/",
          "height": 272
        },
        "outputId": "4c08229b-f66c-4882-fe0b-e0cd59c32faa"
      },
      "source": [
        "X"
      ],
      "execution_count": 28,
      "outputs": [
        {
          "output_type": "execute_result",
          "data": {
            "text/plain": [
              "tensor([[[1., 0., 0., 0., 0., 0., 0., 0., 0., 0.],\n",
              "         [0., 0., 0., 0., 0., 0., 0., 0., 0., 1.],\n",
              "         [0., 0., 0., 0., 1., 0., 0., 0., 0., 0.],\n",
              "         [1., 0., 0., 0., 0., 0., 0., 0., 0., 0.],\n",
              "         [0., 0., 0., 0., 0., 0., 0., 0., 1., 0.],\n",
              "         [0., 0., 0., 0., 0., 1., 0., 0., 0., 0.],\n",
              "         [0., 0., 1., 0., 0., 0., 0., 0., 0., 0.],\n",
              "         [1., 0., 0., 0., 0., 0., 0., 0., 0., 0.],\n",
              "         [0., 1., 0., 0., 0., 0., 0., 0., 0., 0.],\n",
              "         [0., 0., 0., 1., 0., 0., 0., 0., 0., 0.],\n",
              "         [0., 0., 0., 0., 0., 0., 1., 0., 0., 0.],\n",
              "         [0., 0., 0., 0., 0., 0., 0., 1., 0., 0.],\n",
              "         [1., 0., 0., 0., 0., 0., 0., 0., 0., 0.],\n",
              "         [0., 0., 0., 0., 0., 0., 0., 0., 1., 0.],\n",
              "         [0., 0., 0., 0., 0., 1., 0., 0., 0., 0.]]])"
            ]
          },
          "metadata": {
            "tags": []
          },
          "execution_count": 28
        }
      ]
    },
    {
      "cell_type": "code",
      "metadata": {
        "id": "4ahkQ_Xx-wKl",
        "colab_type": "code",
        "colab": {
          "base_uri": "https://localhost:8080/",
          "height": 34
        },
        "outputId": "5058af88-9f37-48f2-fa78-afb5ee1a7c33"
      },
      "source": [
        "Y"
      ],
      "execution_count": 29,
      "outputs": [
        {
          "output_type": "execute_result",
          "data": {
            "text/plain": [
              "tensor([[9, 4, 0, 8, 5, 2, 0, 1, 3, 6, 7, 0, 8, 5, 2]])"
            ]
          },
          "metadata": {
            "tags": []
          },
          "execution_count": 29
        }
      ]
    },
    {
      "cell_type": "code",
      "metadata": {
        "id": "1nXac8oQ-w-n",
        "colab_type": "code",
        "colab": {}
      },
      "source": [
        "rnn = torch.nn.RNN(dic_size, hidden_size, batch_first=True)\n",
        "criterion = torch.nn.CrossEntropyLoss()\n",
        "optimizer = optim.Adam(rnn.parameters(), learning_rate)"
      ],
      "execution_count": 30,
      "outputs": []
    },
    {
      "cell_type": "code",
      "metadata": {
        "id": "iHGZIJvE-5RG",
        "colab_type": "code",
        "colab": {
          "base_uri": "https://localhost:8080/",
          "height": 1000
        },
        "outputId": "18b57682-cdd3-4918-99da-c699e5e2b4e1"
      },
      "source": [
        "for i in range(100):\n",
        "  optimizer.zero_grad()\n",
        "  outputs, _status = rnn(X)\n",
        "  loss = criterion(outputs.view(-1, dic_size), Y.view(-1))\n",
        "  loss.backward()\n",
        "  optimizer.step()\n",
        "\n",
        "  result = outputs.data.numpy().argmax(axis=2)\n",
        "  result_str = ''.join([char_set[c] for c in np.squeeze(result)])\n",
        "  print(i, \"loss: \", loss.item(), \"prediction: \", result, \"true Y: \", y_data, \"prediction str: \", result_str)"
      ],
      "execution_count": 31,
      "outputs": [
        {
          "output_type": "stream",
          "text": [
            "0 loss:  2.353861093521118 prediction:  [[5 0 7 5 8 7 8 5 8 7 8 0 5 8 7]] true Y:  [[9, 4, 0, 8, 5, 2, 0, 1, 3, 6, 7, 0, 8, 5, 2]] prediction str:  o toytyoyty oyt\n",
            "1 loss:  2.0786030292510986 prediction:  [[5 0 0 0 0 0 0 0 0 7 0 0 0 8 0]] true Y:  [[9, 4, 0, 8, 5, 2, 0, 1, 3, 6, 7, 0, 8, 5, 2]] prediction str:  o        t   y \n",
            "2 loss:  1.8582390546798706 prediction:  [[5 0 5 8 5 2 0 8 5 5 0 0 5 5 2]] true Y:  [[9, 4, 0, 8, 5, 2, 0, 1, 3, 6, 7, 0, 8, 5, 2]] prediction str:  o oyou yoo  oou\n",
            "3 loss:  1.690344214439392 prediction:  [[5 0 5 8 5 2 0 8 3 2 7 0 5 5 2]] true Y:  [[9, 4, 0, 8, 5, 2, 0, 1, 3, 6, 7, 0, 8, 5, 2]] prediction str:  o oyou yaut oou\n",
            "4 loss:  1.5636426210403442 prediction:  [[9 0 5 8 5 2 0 1 3 2 7 0 8 5 2]] true Y:  [[9, 4, 0, 8, 5, 2, 0, 1, 3, 6, 7, 0, 8, 5, 2]] prediction str:  i oyou waut you\n",
            "5 loss:  1.470465898513794 prediction:  [[9 0 5 6 5 2 0 1 3 2 7 0 9 5 2]] true Y:  [[9, 4, 0, 8, 5, 2, 0, 1, 3, 6, 7, 0, 8, 5, 2]] prediction str:  i onou waut iou\n",
            "6 loss:  1.397231936454773 prediction:  [[9 4 0 6 5 2 0 1 3 6 7 0 9 5 2]] true Y:  [[9, 4, 0, 8, 5, 2, 0, 1, 3, 6, 7, 0, 8, 5, 2]] prediction str:  if nou want iou\n",
            "7 loss:  1.3305659294128418 prediction:  [[9 4 0 6 5 2 0 1 3 6 7 0 9 5 2]] true Y:  [[9, 4, 0, 8, 5, 2, 0, 1, 3, 6, 7, 0, 8, 5, 2]] prediction str:  if nou want iou\n",
            "8 loss:  1.2730997800827026 prediction:  [[9 4 5 6 5 2 0 1 3 2 7 0 8 5 2]] true Y:  [[9, 4, 0, 8, 5, 2, 0, 1, 3, 6, 7, 0, 8, 5, 2]] prediction str:  ifonou waut you\n",
            "9 loss:  1.222596287727356 prediction:  [[9 4 5 6 5 2 0 1 3 2 7 0 8 5 2]] true Y:  [[9, 4, 0, 8, 5, 2, 0, 1, 3, 6, 7, 0, 8, 5, 2]] prediction str:  ifonou waut you\n",
            "10 loss:  1.1788662672042847 prediction:  [[9 4 5 8 5 2 0 8 3 2 7 0 8 5 2]] true Y:  [[9, 4, 0, 8, 5, 2, 0, 1, 3, 6, 7, 0, 8, 5, 2]] prediction str:  ifoyou yaut you\n",
            "11 loss:  1.1415666341781616 prediction:  [[9 4 5 8 5 2 0 8 3 2 7 0 8 5 2]] true Y:  [[9, 4, 0, 8, 5, 2, 0, 1, 3, 6, 7, 0, 8, 5, 2]] prediction str:  ifoyou yaut you\n",
            "12 loss:  1.1044186353683472 prediction:  [[9 4 5 8 5 2 0 8 3 2 7 0 8 5 2]] true Y:  [[9, 4, 0, 8, 5, 2, 0, 1, 3, 6, 7, 0, 8, 5, 2]] prediction str:  ifoyou yaut you\n",
            "13 loss:  1.089356780052185 prediction:  [[8 4 0 8 5 2 0 8 3 2 7 0 8 5 2]] true Y:  [[9, 4, 0, 8, 5, 2, 0, 1, 3, 6, 7, 0, 8, 5, 2]] prediction str:  yf you yaut you\n",
            "14 loss:  1.062711238861084 prediction:  [[8 4 0 8 5 2 0 1 3 6 7 0 8 5 2]] true Y:  [[9, 4, 0, 8, 5, 2, 0, 1, 3, 6, 7, 0, 8, 5, 2]] prediction str:  yf you want you\n",
            "15 loss:  1.04688560962677 prediction:  [[8 4 0 8 5 2 0 1 3 2 7 0 8 5 2]] true Y:  [[9, 4, 0, 8, 5, 2, 0, 1, 3, 6, 7, 0, 8, 5, 2]] prediction str:  yf you waut you\n",
            "16 loss:  1.027075171470642 prediction:  [[8 4 0 8 5 2 0 1 3 2 7 0 8 5 2]] true Y:  [[9, 4, 0, 8, 5, 2, 0, 1, 3, 6, 7, 0, 8, 5, 2]] prediction str:  yf you waut you\n",
            "17 loss:  1.0118685960769653 prediction:  [[8 4 0 8 5 2 0 1 3 2 7 0 8 5 2]] true Y:  [[9, 4, 0, 8, 5, 2, 0, 1, 3, 6, 7, 0, 8, 5, 2]] prediction str:  yf you waut you\n",
            "18 loss:  0.9952172636985779 prediction:  [[9 4 0 8 5 2 0 1 3 2 7 0 8 5 2]] true Y:  [[9, 4, 0, 8, 5, 2, 0, 1, 3, 6, 7, 0, 8, 5, 2]] prediction str:  if you waut you\n",
            "19 loss:  0.9808666110038757 prediction:  [[9 4 0 8 5 2 0 1 3 2 7 0 8 5 2]] true Y:  [[9, 4, 0, 8, 5, 2, 0, 1, 3, 6, 7, 0, 8, 5, 2]] prediction str:  if you waut you\n",
            "20 loss:  0.9681428670883179 prediction:  [[9 4 0 8 5 2 0 1 3 2 7 0 8 5 2]] true Y:  [[9, 4, 0, 8, 5, 2, 0, 1, 3, 6, 7, 0, 8, 5, 2]] prediction str:  if you waut you\n",
            "21 loss:  0.9553787112236023 prediction:  [[9 4 0 8 5 2 0 1 3 2 7 0 8 5 2]] true Y:  [[9, 4, 0, 8, 5, 2, 0, 1, 3, 6, 7, 0, 8, 5, 2]] prediction str:  if you waut you\n",
            "22 loss:  0.9441213607788086 prediction:  [[9 4 0 8 5 2 0 1 3 2 7 0 8 5 2]] true Y:  [[9, 4, 0, 8, 5, 2, 0, 1, 3, 6, 7, 0, 8, 5, 2]] prediction str:  if you waut you\n",
            "23 loss:  0.9335496425628662 prediction:  [[9 4 0 8 5 2 0 1 3 2 7 0 8 5 2]] true Y:  [[9, 4, 0, 8, 5, 2, 0, 1, 3, 6, 7, 0, 8, 5, 2]] prediction str:  if you waut you\n",
            "24 loss:  0.9256687164306641 prediction:  [[9 4 0 8 5 2 0 1 3 2 7 0 8 5 2]] true Y:  [[9, 4, 0, 8, 5, 2, 0, 1, 3, 6, 7, 0, 8, 5, 2]] prediction str:  if you waut you\n",
            "25 loss:  0.9185055494308472 prediction:  [[9 4 0 8 5 2 0 1 3 2 7 0 8 5 2]] true Y:  [[9, 4, 0, 8, 5, 2, 0, 1, 3, 6, 7, 0, 8, 5, 2]] prediction str:  if you waut you\n",
            "26 loss:  0.9128314852714539 prediction:  [[9 4 0 8 5 2 0 1 3 2 7 0 8 5 2]] true Y:  [[9, 4, 0, 8, 5, 2, 0, 1, 3, 6, 7, 0, 8, 5, 2]] prediction str:  if you waut you\n",
            "27 loss:  0.9071725010871887 prediction:  [[9 4 0 8 5 2 0 1 3 2 7 0 8 5 2]] true Y:  [[9, 4, 0, 8, 5, 2, 0, 1, 3, 6, 7, 0, 8, 5, 2]] prediction str:  if you waut you\n",
            "28 loss:  0.9010275602340698 prediction:  [[9 4 0 8 5 2 0 1 3 2 7 0 8 5 2]] true Y:  [[9, 4, 0, 8, 5, 2, 0, 1, 3, 6, 7, 0, 8, 5, 2]] prediction str:  if you waut you\n",
            "29 loss:  0.8956202268600464 prediction:  [[9 4 0 8 5 2 0 1 3 2 7 0 8 5 2]] true Y:  [[9, 4, 0, 8, 5, 2, 0, 1, 3, 6, 7, 0, 8, 5, 2]] prediction str:  if you waut you\n",
            "30 loss:  0.8912885189056396 prediction:  [[9 4 0 8 5 2 0 1 3 2 7 0 8 5 2]] true Y:  [[9, 4, 0, 8, 5, 2, 0, 1, 3, 6, 7, 0, 8, 5, 2]] prediction str:  if you waut you\n",
            "31 loss:  0.8873926997184753 prediction:  [[9 4 0 8 5 2 0 1 3 2 7 0 8 5 2]] true Y:  [[9, 4, 0, 8, 5, 2, 0, 1, 3, 6, 7, 0, 8, 5, 2]] prediction str:  if you waut you\n",
            "32 loss:  0.8841785788536072 prediction:  [[9 4 0 8 5 2 0 1 3 2 7 0 8 5 2]] true Y:  [[9, 4, 0, 8, 5, 2, 0, 1, 3, 6, 7, 0, 8, 5, 2]] prediction str:  if you waut you\n",
            "33 loss:  0.881730318069458 prediction:  [[9 4 0 8 5 2 0 1 3 2 7 0 8 5 2]] true Y:  [[9, 4, 0, 8, 5, 2, 0, 1, 3, 6, 7, 0, 8, 5, 2]] prediction str:  if you waut you\n",
            "34 loss:  0.8796142935752869 prediction:  [[9 4 0 8 5 2 0 1 3 2 7 0 8 5 2]] true Y:  [[9, 4, 0, 8, 5, 2, 0, 1, 3, 6, 7, 0, 8, 5, 2]] prediction str:  if you waut you\n",
            "35 loss:  0.8775598406791687 prediction:  [[9 4 0 8 5 2 0 1 3 2 7 0 8 5 2]] true Y:  [[9, 4, 0, 8, 5, 2, 0, 1, 3, 6, 7, 0, 8, 5, 2]] prediction str:  if you waut you\n",
            "36 loss:  0.8755312561988831 prediction:  [[9 4 0 8 5 2 0 1 3 2 7 0 8 5 2]] true Y:  [[9, 4, 0, 8, 5, 2, 0, 1, 3, 6, 7, 0, 8, 5, 2]] prediction str:  if you waut you\n",
            "37 loss:  0.8734906911849976 prediction:  [[9 4 0 8 5 2 0 1 3 2 7 0 8 5 2]] true Y:  [[9, 4, 0, 8, 5, 2, 0, 1, 3, 6, 7, 0, 8, 5, 2]] prediction str:  if you waut you\n",
            "38 loss:  0.8714955449104309 prediction:  [[9 4 0 8 5 2 0 1 3 2 7 0 8 5 2]] true Y:  [[9, 4, 0, 8, 5, 2, 0, 1, 3, 6, 7, 0, 8, 5, 2]] prediction str:  if you waut you\n",
            "39 loss:  0.8697695136070251 prediction:  [[9 4 0 8 5 2 0 1 3 2 7 0 8 5 2]] true Y:  [[9, 4, 0, 8, 5, 2, 0, 1, 3, 6, 7, 0, 8, 5, 2]] prediction str:  if you waut you\n",
            "40 loss:  0.8682515621185303 prediction:  [[9 4 0 8 5 2 0 1 3 2 7 0 8 5 2]] true Y:  [[9, 4, 0, 8, 5, 2, 0, 1, 3, 6, 7, 0, 8, 5, 2]] prediction str:  if you waut you\n",
            "41 loss:  0.8667717576026917 prediction:  [[9 4 0 8 5 2 0 1 3 2 7 0 8 5 2]] true Y:  [[9, 4, 0, 8, 5, 2, 0, 1, 3, 6, 7, 0, 8, 5, 2]] prediction str:  if you waut you\n",
            "42 loss:  0.8653202652931213 prediction:  [[9 4 0 8 5 2 0 1 3 2 7 0 8 5 2]] true Y:  [[9, 4, 0, 8, 5, 2, 0, 1, 3, 6, 7, 0, 8, 5, 2]] prediction str:  if you waut you\n",
            "43 loss:  0.8637869358062744 prediction:  [[9 4 0 8 5 2 0 1 3 2 7 0 8 5 2]] true Y:  [[9, 4, 0, 8, 5, 2, 0, 1, 3, 6, 7, 0, 8, 5, 2]] prediction str:  if you waut you\n",
            "44 loss:  0.8621410131454468 prediction:  [[9 4 0 8 5 2 0 1 3 2 7 0 8 5 2]] true Y:  [[9, 4, 0, 8, 5, 2, 0, 1, 3, 6, 7, 0, 8, 5, 2]] prediction str:  if you waut you\n",
            "45 loss:  0.8604532480239868 prediction:  [[9 4 0 8 5 2 0 1 3 2 7 0 8 5 2]] true Y:  [[9, 4, 0, 8, 5, 2, 0, 1, 3, 6, 7, 0, 8, 5, 2]] prediction str:  if you waut you\n",
            "46 loss:  0.858639657497406 prediction:  [[9 4 0 8 5 2 0 1 3 2 7 0 8 5 2]] true Y:  [[9, 4, 0, 8, 5, 2, 0, 1, 3, 6, 7, 0, 8, 5, 2]] prediction str:  if you waut you\n",
            "47 loss:  0.8566977381706238 prediction:  [[9 4 0 8 5 2 0 1 3 2 7 0 8 5 2]] true Y:  [[9, 4, 0, 8, 5, 2, 0, 1, 3, 6, 7, 0, 8, 5, 2]] prediction str:  if you waut you\n",
            "48 loss:  0.8546276092529297 prediction:  [[9 4 0 8 5 2 0 1 3 2 7 0 8 5 2]] true Y:  [[9, 4, 0, 8, 5, 2, 0, 1, 3, 6, 7, 0, 8, 5, 2]] prediction str:  if you waut you\n",
            "49 loss:  0.8523614406585693 prediction:  [[9 4 0 8 5 2 0 1 3 2 7 0 8 5 2]] true Y:  [[9, 4, 0, 8, 5, 2, 0, 1, 3, 6, 7, 0, 8, 5, 2]] prediction str:  if you waut you\n",
            "50 loss:  0.8499935269355774 prediction:  [[9 4 0 8 5 2 0 1 3 2 7 0 8 5 2]] true Y:  [[9, 4, 0, 8, 5, 2, 0, 1, 3, 6, 7, 0, 8, 5, 2]] prediction str:  if you waut you\n",
            "51 loss:  0.8476241827011108 prediction:  [[9 4 0 8 5 2 0 1 3 2 7 0 8 5 2]] true Y:  [[9, 4, 0, 8, 5, 2, 0, 1, 3, 6, 7, 0, 8, 5, 2]] prediction str:  if you waut you\n",
            "52 loss:  0.845367968082428 prediction:  [[9 4 0 8 5 2 0 1 3 2 7 0 8 5 2]] true Y:  [[9, 4, 0, 8, 5, 2, 0, 1, 3, 6, 7, 0, 8, 5, 2]] prediction str:  if you waut you\n",
            "53 loss:  0.8433867692947388 prediction:  [[9 4 0 8 5 2 0 1 3 2 7 0 8 5 2]] true Y:  [[9, 4, 0, 8, 5, 2, 0, 1, 3, 6, 7, 0, 8, 5, 2]] prediction str:  if you waut you\n",
            "54 loss:  0.841722846031189 prediction:  [[9 4 0 8 5 2 0 1 3 2 7 0 8 5 2]] true Y:  [[9, 4, 0, 8, 5, 2, 0, 1, 3, 6, 7, 0, 8, 5, 2]] prediction str:  if you waut you\n",
            "55 loss:  0.8403683304786682 prediction:  [[9 4 0 8 5 2 0 1 3 2 7 0 8 5 2]] true Y:  [[9, 4, 0, 8, 5, 2, 0, 1, 3, 6, 7, 0, 8, 5, 2]] prediction str:  if you waut you\n",
            "56 loss:  0.8392965793609619 prediction:  [[9 4 0 8 5 2 0 1 3 2 7 0 8 5 2]] true Y:  [[9, 4, 0, 8, 5, 2, 0, 1, 3, 6, 7, 0, 8, 5, 2]] prediction str:  if you waut you\n",
            "57 loss:  0.8384197950363159 prediction:  [[9 4 0 8 5 2 0 1 3 2 7 0 8 5 2]] true Y:  [[9, 4, 0, 8, 5, 2, 0, 1, 3, 6, 7, 0, 8, 5, 2]] prediction str:  if you waut you\n",
            "58 loss:  0.8376957178115845 prediction:  [[9 4 0 8 5 2 0 1 3 2 7 0 8 5 2]] true Y:  [[9, 4, 0, 8, 5, 2, 0, 1, 3, 6, 7, 0, 8, 5, 2]] prediction str:  if you waut you\n",
            "59 loss:  0.8370920419692993 prediction:  [[9 4 0 8 5 2 0 1 3 2 7 0 8 5 2]] true Y:  [[9, 4, 0, 8, 5, 2, 0, 1, 3, 6, 7, 0, 8, 5, 2]] prediction str:  if you waut you\n",
            "60 loss:  0.8365625739097595 prediction:  [[9 4 0 8 5 2 0 1 3 2 7 0 8 5 2]] true Y:  [[9, 4, 0, 8, 5, 2, 0, 1, 3, 6, 7, 0, 8, 5, 2]] prediction str:  if you waut you\n",
            "61 loss:  0.836107611656189 prediction:  [[9 4 0 8 5 2 0 1 3 2 7 0 8 5 2]] true Y:  [[9, 4, 0, 8, 5, 2, 0, 1, 3, 6, 7, 0, 8, 5, 2]] prediction str:  if you waut you\n",
            "62 loss:  0.8357078433036804 prediction:  [[9 4 0 8 5 2 0 1 3 2 7 0 8 5 2]] true Y:  [[9, 4, 0, 8, 5, 2, 0, 1, 3, 6, 7, 0, 8, 5, 2]] prediction str:  if you waut you\n",
            "63 loss:  0.8353500366210938 prediction:  [[9 4 0 8 5 2 0 1 3 2 7 0 8 5 2]] true Y:  [[9, 4, 0, 8, 5, 2, 0, 1, 3, 6, 7, 0, 8, 5, 2]] prediction str:  if you waut you\n",
            "64 loss:  0.8350392580032349 prediction:  [[9 4 0 8 5 2 0 1 3 2 7 0 8 5 2]] true Y:  [[9, 4, 0, 8, 5, 2, 0, 1, 3, 6, 7, 0, 8, 5, 2]] prediction str:  if you waut you\n",
            "65 loss:  0.8347557187080383 prediction:  [[9 4 0 8 5 2 0 1 3 2 7 0 8 5 2]] true Y:  [[9, 4, 0, 8, 5, 2, 0, 1, 3, 6, 7, 0, 8, 5, 2]] prediction str:  if you waut you\n",
            "66 loss:  0.8345028162002563 prediction:  [[9 4 0 8 5 2 0 1 3 2 7 0 8 5 2]] true Y:  [[9, 4, 0, 8, 5, 2, 0, 1, 3, 6, 7, 0, 8, 5, 2]] prediction str:  if you waut you\n",
            "67 loss:  0.8342731595039368 prediction:  [[9 4 0 8 5 2 0 1 3 2 7 0 8 5 2]] true Y:  [[9, 4, 0, 8, 5, 2, 0, 1, 3, 6, 7, 0, 8, 5, 2]] prediction str:  if you waut you\n",
            "68 loss:  0.8340575695037842 prediction:  [[9 4 0 8 5 2 0 1 3 2 7 0 8 5 2]] true Y:  [[9, 4, 0, 8, 5, 2, 0, 1, 3, 6, 7, 0, 8, 5, 2]] prediction str:  if you waut you\n",
            "69 loss:  0.8338610529899597 prediction:  [[9 4 0 8 5 2 0 1 3 2 7 0 8 5 2]] true Y:  [[9, 4, 0, 8, 5, 2, 0, 1, 3, 6, 7, 0, 8, 5, 2]] prediction str:  if you waut you\n",
            "70 loss:  0.8336719274520874 prediction:  [[9 4 0 8 5 2 0 1 3 2 7 0 8 5 2]] true Y:  [[9, 4, 0, 8, 5, 2, 0, 1, 3, 6, 7, 0, 8, 5, 2]] prediction str:  if you waut you\n",
            "71 loss:  0.8334951400756836 prediction:  [[9 4 0 8 5 2 0 1 3 2 7 0 8 5 2]] true Y:  [[9, 4, 0, 8, 5, 2, 0, 1, 3, 6, 7, 0, 8, 5, 2]] prediction str:  if you waut you\n",
            "72 loss:  0.8333262205123901 prediction:  [[9 4 0 8 5 2 0 1 3 2 7 0 8 5 2]] true Y:  [[9, 4, 0, 8, 5, 2, 0, 1, 3, 6, 7, 0, 8, 5, 2]] prediction str:  if you waut you\n",
            "73 loss:  0.8331634402275085 prediction:  [[9 4 0 8 5 2 0 1 3 2 7 0 8 5 2]] true Y:  [[9, 4, 0, 8, 5, 2, 0, 1, 3, 6, 7, 0, 8, 5, 2]] prediction str:  if you waut you\n",
            "74 loss:  0.8330097794532776 prediction:  [[9 4 0 8 5 2 0 1 3 2 7 0 8 5 2]] true Y:  [[9, 4, 0, 8, 5, 2, 0, 1, 3, 6, 7, 0, 8, 5, 2]] prediction str:  if you waut you\n",
            "75 loss:  0.8328597545623779 prediction:  [[9 4 0 8 5 2 0 1 3 2 7 0 8 5 2]] true Y:  [[9, 4, 0, 8, 5, 2, 0, 1, 3, 6, 7, 0, 8, 5, 2]] prediction str:  if you waut you\n",
            "76 loss:  0.8327184319496155 prediction:  [[9 4 0 8 5 2 0 1 3 2 7 0 8 5 2]] true Y:  [[9, 4, 0, 8, 5, 2, 0, 1, 3, 6, 7, 0, 8, 5, 2]] prediction str:  if you waut you\n",
            "77 loss:  0.8325814008712769 prediction:  [[9 4 0 8 5 2 0 1 3 2 7 0 8 5 2]] true Y:  [[9, 4, 0, 8, 5, 2, 0, 1, 3, 6, 7, 0, 8, 5, 2]] prediction str:  if you waut you\n",
            "78 loss:  0.8324512839317322 prediction:  [[9 4 0 8 5 2 0 1 3 2 7 0 8 5 2]] true Y:  [[9, 4, 0, 8, 5, 2, 0, 1, 3, 6, 7, 0, 8, 5, 2]] prediction str:  if you waut you\n",
            "79 loss:  0.8323270678520203 prediction:  [[9 4 0 8 5 2 0 1 3 2 7 0 8 5 2]] true Y:  [[9, 4, 0, 8, 5, 2, 0, 1, 3, 6, 7, 0, 8, 5, 2]] prediction str:  if you waut you\n",
            "80 loss:  0.8322076201438904 prediction:  [[9 4 0 8 5 2 0 1 3 2 7 0 8 5 2]] true Y:  [[9, 4, 0, 8, 5, 2, 0, 1, 3, 6, 7, 0, 8, 5, 2]] prediction str:  if you waut you\n",
            "81 loss:  0.8320943713188171 prediction:  [[9 4 0 8 5 2 0 1 3 2 7 0 8 5 2]] true Y:  [[9, 4, 0, 8, 5, 2, 0, 1, 3, 6, 7, 0, 8, 5, 2]] prediction str:  if you waut you\n",
            "82 loss:  0.8319843411445618 prediction:  [[9 4 0 8 5 2 0 1 3 2 7 0 8 5 2]] true Y:  [[9, 4, 0, 8, 5, 2, 0, 1, 3, 6, 7, 0, 8, 5, 2]] prediction str:  if you waut you\n",
            "83 loss:  0.8318795561790466 prediction:  [[9 4 0 8 5 2 0 1 3 2 7 0 8 5 2]] true Y:  [[9, 4, 0, 8, 5, 2, 0, 1, 3, 6, 7, 0, 8, 5, 2]] prediction str:  if you waut you\n",
            "84 loss:  0.8317768573760986 prediction:  [[9 4 0 8 5 2 0 1 3 2 7 0 8 5 2]] true Y:  [[9, 4, 0, 8, 5, 2, 0, 1, 3, 6, 7, 0, 8, 5, 2]] prediction str:  if you waut you\n",
            "85 loss:  0.8316782116889954 prediction:  [[9 4 0 8 5 2 0 1 3 2 7 0 8 5 2]] true Y:  [[9, 4, 0, 8, 5, 2, 0, 1, 3, 6, 7, 0, 8, 5, 2]] prediction str:  if you waut you\n",
            "86 loss:  0.831581711769104 prediction:  [[9 4 0 8 5 2 0 1 3 2 7 0 8 5 2]] true Y:  [[9, 4, 0, 8, 5, 2, 0, 1, 3, 6, 7, 0, 8, 5, 2]] prediction str:  if you waut you\n",
            "87 loss:  0.8314878940582275 prediction:  [[9 4 0 8 5 2 0 1 3 2 7 0 8 5 2]] true Y:  [[9, 4, 0, 8, 5, 2, 0, 1, 3, 6, 7, 0, 8, 5, 2]] prediction str:  if you waut you\n",
            "88 loss:  0.831396758556366 prediction:  [[9 4 0 8 5 2 0 1 3 2 7 0 8 5 2]] true Y:  [[9, 4, 0, 8, 5, 2, 0, 1, 3, 6, 7, 0, 8, 5, 2]] prediction str:  if you waut you\n",
            "89 loss:  0.8313077688217163 prediction:  [[9 4 0 8 5 2 0 1 3 2 7 0 8 5 2]] true Y:  [[9, 4, 0, 8, 5, 2, 0, 1, 3, 6, 7, 0, 8, 5, 2]] prediction str:  if you waut you\n",
            "90 loss:  0.8312217593193054 prediction:  [[9 4 0 8 5 2 0 1 3 2 7 0 8 5 2]] true Y:  [[9, 4, 0, 8, 5, 2, 0, 1, 3, 6, 7, 0, 8, 5, 2]] prediction str:  if you waut you\n",
            "91 loss:  0.8311378359794617 prediction:  [[9 4 0 8 5 2 0 1 3 2 7 0 8 5 2]] true Y:  [[9, 4, 0, 8, 5, 2, 0, 1, 3, 6, 7, 0, 8, 5, 2]] prediction str:  if you waut you\n",
            "92 loss:  0.831056535243988 prediction:  [[9 4 0 8 5 2 0 1 3 2 7 0 8 5 2]] true Y:  [[9, 4, 0, 8, 5, 2, 0, 1, 3, 6, 7, 0, 8, 5, 2]] prediction str:  if you waut you\n",
            "93 loss:  0.8309772610664368 prediction:  [[9 4 0 8 5 2 0 1 3 2 7 0 8 5 2]] true Y:  [[9, 4, 0, 8, 5, 2, 0, 1, 3, 6, 7, 0, 8, 5, 2]] prediction str:  if you waut you\n",
            "94 loss:  0.8309003114700317 prediction:  [[9 4 0 8 5 2 0 1 3 2 7 0 8 5 2]] true Y:  [[9, 4, 0, 8, 5, 2, 0, 1, 3, 6, 7, 0, 8, 5, 2]] prediction str:  if you waut you\n",
            "95 loss:  0.8308252692222595 prediction:  [[9 4 0 8 5 2 0 1 3 2 7 0 8 5 2]] true Y:  [[9, 4, 0, 8, 5, 2, 0, 1, 3, 6, 7, 0, 8, 5, 2]] prediction str:  if you waut you\n",
            "96 loss:  0.8307524919509888 prediction:  [[9 4 0 8 5 2 0 1 3 2 7 0 8 5 2]] true Y:  [[9, 4, 0, 8, 5, 2, 0, 1, 3, 6, 7, 0, 8, 5, 2]] prediction str:  if you waut you\n",
            "97 loss:  0.8306813836097717 prediction:  [[9 4 0 8 5 2 0 1 3 2 7 0 8 5 2]] true Y:  [[9, 4, 0, 8, 5, 2, 0, 1, 3, 6, 7, 0, 8, 5, 2]] prediction str:  if you waut you\n",
            "98 loss:  0.830612063407898 prediction:  [[9 4 0 8 5 2 0 1 3 2 7 0 8 5 2]] true Y:  [[9, 4, 0, 8, 5, 2, 0, 1, 3, 6, 7, 0, 8, 5, 2]] prediction str:  if you waut you\n",
            "99 loss:  0.830544114112854 prediction:  [[9 4 0 8 5 2 0 1 3 2 7 0 8 5 2]] true Y:  [[9, 4, 0, 8, 5, 2, 0, 1, 3, 6, 7, 0, 8, 5, 2]] prediction str:  if you waut you\n"
          ],
          "name": "stdout"
        }
      ]
    },
    {
      "cell_type": "code",
      "metadata": {
        "id": "c4JMn4QWAE7V",
        "colab_type": "code",
        "colab": {}
      },
      "source": [
        ""
      ],
      "execution_count": 31,
      "outputs": []
    }
  ]
}